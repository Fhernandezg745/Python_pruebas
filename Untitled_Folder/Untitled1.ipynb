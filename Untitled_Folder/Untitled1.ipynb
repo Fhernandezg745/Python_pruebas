{
 "cells": [
  {
   "cell_type": "code",
   "execution_count": 3,
   "id": "32b2b760-41a5-46f5-bda6-e2100e325712",
   "metadata": {},
   "outputs": [
    {
     "name": "stdout",
     "output_type": "stream",
     "text": [
      "{}\n"
     ]
    }
   ],
   "source": [
    "from urllib import request\n",
    "import pandas as pd\n",
    "import numpy as np\n",
    "import json\n",
    "import requests\n",
    "\n",
    "# Instancio el api_key para AlphaVantage\n",
    "TOKEN = 'OYDV8S8KFCSH3B35'\n",
    "\n",
    "# defino la funcion de crypto rank\n",
    "\n",
    "\n",
    "def cryptoRankk(symbol):\n",
    "    function = 'CRYPTO_RATING'\n",
    "    url = 'https://www.alphavantage.co/query'\n",
    "    parametros = {'function': function, 'symbol': symbol, 'apikey': TOKEN}\n",
    "\n",
    "    r = requests.get(url, params=parametros)\n",
    "    return r.json()\n",
    "\n",
    "\n",
    "data = cryptoRankk('BTC')\n",
    "print(data)\n"
   ]
  },
  {
   "cell_type": "code",
   "execution_count": 7,
   "id": "655f1976-43b3-4908-b21e-f9ae66104d2c",
   "metadata": {},
   "outputs": [],
   "source": [
    "def quote(symbol):\n",
    "    function = 'GLOBAL_QUOTE'\n",
    "    url = 'https://www.alphavantage.co/query'\n",
    "    parametros = {'function': function, 'symbol': symbol, 'apikey': TOKEN}\n",
    "\n",
    "    r = requests.get(url, params=parametros)\n",
    "    js = r.json()['Global Quote']\n",
    "    df = pd.DataFrame.from_dict(js,orient='index')\n",
    "    return df\n",
    "\n",
    "\n",
    "data = quote('AAPL')\n",
    "#print(json.dumps(data, indent=3, sort_keys=True))"
   ]
  },
  {
   "cell_type": "code",
   "execution_count": 8,
   "id": "c8be58d7-2750-4d77-b1d3-037d4f0d0dc4",
   "metadata": {},
   "outputs": [
    {
     "data": {
      "text/html": [
       "<div>\n",
       "<style scoped>\n",
       "    .dataframe tbody tr th:only-of-type {\n",
       "        vertical-align: middle;\n",
       "    }\n",
       "\n",
       "    .dataframe tbody tr th {\n",
       "        vertical-align: top;\n",
       "    }\n",
       "\n",
       "    .dataframe thead th {\n",
       "        text-align: right;\n",
       "    }\n",
       "</style>\n",
       "<table border=\"1\" class=\"dataframe\">\n",
       "  <thead>\n",
       "    <tr style=\"text-align: right;\">\n",
       "      <th></th>\n",
       "      <th>0</th>\n",
       "    </tr>\n",
       "  </thead>\n",
       "  <tbody>\n",
       "    <tr>\n",
       "      <th>01. symbol</th>\n",
       "      <td>AAPL</td>\n",
       "    </tr>\n",
       "    <tr>\n",
       "      <th>02. open</th>\n",
       "      <td>164.4150</td>\n",
       "    </tr>\n",
       "    <tr>\n",
       "      <th>03. high</th>\n",
       "      <td>166.3300</td>\n",
       "    </tr>\n",
       "    <tr>\n",
       "      <th>04. low</th>\n",
       "      <td>162.3000</td>\n",
       "    </tr>\n",
       "    <tr>\n",
       "      <th>05. price</th>\n",
       "      <td>162.4100</td>\n",
       "    </tr>\n",
       "    <tr>\n",
       "      <th>06. volume</th>\n",
       "      <td>122848858</td>\n",
       "    </tr>\n",
       "    <tr>\n",
       "      <th>07. latest trading day</th>\n",
       "      <td>2022-01-21</td>\n",
       "    </tr>\n",
       "    <tr>\n",
       "      <th>08. previous close</th>\n",
       "      <td>164.5100</td>\n",
       "    </tr>\n",
       "    <tr>\n",
       "      <th>09. change</th>\n",
       "      <td>-2.1000</td>\n",
       "    </tr>\n",
       "    <tr>\n",
       "      <th>10. change percent</th>\n",
       "      <td>-1.2765%</td>\n",
       "    </tr>\n",
       "  </tbody>\n",
       "</table>\n",
       "</div>"
      ],
      "text/plain": [
       "                                 0\n",
       "01. symbol                    AAPL\n",
       "02. open                  164.4150\n",
       "03. high                  166.3300\n",
       "04. low                   162.3000\n",
       "05. price                 162.4100\n",
       "06. volume               122848858\n",
       "07. latest trading day  2022-01-21\n",
       "08. previous close        164.5100\n",
       "09. change                 -2.1000\n",
       "10. change percent        -1.2765%"
      ]
     },
     "execution_count": 8,
     "metadata": {},
     "output_type": "execute_result"
    }
   ],
   "source": [
    "data"
   ]
  },
  {
   "cell_type": "code",
   "execution_count": null,
   "id": "e80b25aa-38f1-4e19-8ee2-cf705eaf3b5f",
   "metadata": {},
   "outputs": [],
   "source": []
  }
 ],
 "metadata": {
  "kernelspec": {
   "display_name": "Python 3 (ipykernel)",
   "language": "python",
   "name": "python3"
  },
  "language_info": {
   "codemirror_mode": {
    "name": "ipython",
    "version": 3
   },
   "file_extension": ".py",
   "mimetype": "text/x-python",
   "name": "python",
   "nbconvert_exporter": "python",
   "pygments_lexer": "ipython3",
   "version": "3.9.7"
  }
 },
 "nbformat": 4,
 "nbformat_minor": 5
}
