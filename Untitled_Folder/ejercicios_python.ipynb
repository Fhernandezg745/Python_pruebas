{
 "cells": [
  {
   "cell_type": "code",
   "execution_count": 12,
   "id": "b47ddd22-0274-48d5-ae46-3281e07d59d7",
   "metadata": {},
   "outputs": [
    {
     "name": "stdout",
     "output_type": "stream",
     "text": [
      "[1505, 1540, 1575, 1610, 1645, 1680, 1715, 1750, 1785, 1820, 1855, 1890, 1925, 1960, 1995, 2030, 2065, 2100, 2135, 2170, 2205, 2240, 2275, 2310, 2345, 2380, 2415, 2450, 2485, 2520, 2555, 2590, 2625, 2660, 2695]\n"
     ]
    }
   ],
   "source": [
    "#divisible by 7 and 5, between 1500 and 2700 (both included)\n",
    "\n",
    "numbers = []\n",
    "for number in range(1499,2701):\n",
    "    if (number % 5 == 0) and (number % 7 == 0):\n",
    "        numbers.append(number)\n",
    "print(numbers)\n"
   ]
  },
  {
   "cell_type": "code",
   "execution_count": 2,
   "id": "3520cb9a-2fc9-4174-ad22-4d35e147c70c",
   "metadata": {},
   "outputs": [
    {
     "name": "stdout",
     "output_type": "stream",
     "text": [
      "4 even numbers counted\n",
      "5 odd numbers counted\n"
     ]
    }
   ],
   "source": [
    "# count the numbers even or odd \n",
    "numbers = (1,2,3,4,5,6,7,8,9)  #tupple\n",
    "\n",
    "count_even = 0\n",
    "count_odd = 0\n",
    "\n",
    "for i in numbers:\n",
    "    if i%2 == 0:\n",
    "        count_even += 1\n",
    "    else:\n",
    "        count_odd +=1\n",
    "\n",
    "print(count_even, 'even numbers counted')\n",
    "print(count_odd,'odd numbers counted')\n"
   ]
  },
  {
   "cell_type": "code",
   "execution_count": 11,
   "id": "d95d85b0-6112-49a7-bc71-8aab4c82f420",
   "metadata": {},
   "outputs": [
    {
     "data": {
      "text/plain": [
       "['Fizz_Buzz',\n",
       " 1,\n",
       " 2,\n",
       " 'Fizz',\n",
       " 4,\n",
       " 'Buzz',\n",
       " 'Fizz',\n",
       " 7,\n",
       " 8,\n",
       " 'Fizz',\n",
       " 'Buzz',\n",
       " 11,\n",
       " 'Fizz',\n",
       " 13,\n",
       " 14,\n",
       " 'Fizz_Buzz',\n",
       " 16,\n",
       " 17,\n",
       " 'Fizz',\n",
       " 19,\n",
       " 'Buzz',\n",
       " 'Fizz',\n",
       " 22,\n",
       " 23,\n",
       " 'Fizz',\n",
       " 'Buzz',\n",
       " 26,\n",
       " 'Fizz',\n",
       " 28,\n",
       " 29,\n",
       " 'Fizz_Buzz',\n",
       " 31,\n",
       " 32,\n",
       " 'Fizz',\n",
       " 34,\n",
       " 'Buzz',\n",
       " 'Fizz',\n",
       " 37,\n",
       " 38,\n",
       " 'Fizz',\n",
       " 'Buzz',\n",
       " 41,\n",
       " 'Fizz',\n",
       " 43,\n",
       " 44,\n",
       " 'Fizz_Buzz',\n",
       " 46,\n",
       " 47,\n",
       " 'Fizz',\n",
       " 49]"
      ]
     },
     "execution_count": 11,
     "metadata": {},
     "output_type": "execute_result"
    }
   ],
   "source": [
    "# iterates integers from 1,50 , multiples of 3 print Fizz, multiples of five print buzz, if both conditions print fizzbuzz\n",
    "lista = [i for i in range(0,50)]\n",
    "\n",
    "for index, i in enumerate(lista):\n",
    "    if i%3 == 0 and i%5 == 0:\n",
    "        lista[index] = 'Fizz_Buzz'\n",
    "        #reemplazar por 'Fizz_Buzz'\n",
    "    elif i%3 == 0:\n",
    "        lista[index] = 'Fizz'\n",
    "    elif i%5 == 0:\n",
    "        lista[index] = 'Buzz' \n",
    "    else:\n",
    "        pass\n",
    "\n",
    "lista\n",
    "\n",
    "\n"
   ]
  },
  {
   "cell_type": "code",
   "execution_count": null,
   "id": "6dc55a88-39b0-4aa7-acac-1151e909adf5",
   "metadata": {},
   "outputs": [],
   "source": []
  }
 ],
 "metadata": {
  "kernelspec": {
   "display_name": "Python 3 (ipykernel)",
   "language": "python",
   "name": "python3"
  },
  "language_info": {
   "codemirror_mode": {
    "name": "ipython",
    "version": 3
   },
   "file_extension": ".py",
   "mimetype": "text/x-python",
   "name": "python",
   "nbconvert_exporter": "python",
   "pygments_lexer": "ipython3",
   "version": "3.9.7"
  }
 },
 "nbformat": 4,
 "nbformat_minor": 5
}
