{
 "cells": [
  {
   "cell_type": "code",
   "execution_count": 10,
   "id": "1dcbd213",
   "metadata": {},
   "outputs": [],
   "source": [
    "import pandas as pd\n",
    "import numpy as np"
   ]
  },
  {
   "cell_type": "code",
   "execution_count": 2,
   "id": "573435ff",
   "metadata": {},
   "outputs": [],
   "source": [
    "def leerArchivos(ticker=''):\n",
    "        Ticker = pd.read_excel(ticker + '.xlsx')\n",
    "        return Ticker"
   ]
  },
  {
   "cell_type": "code",
   "execution_count": 3,
   "id": "a8467711",
   "metadata": {},
   "outputs": [],
   "source": [
    "def abrirExcel(ticker,carpeta=''):\n",
    "    if carpeta == '':\n",
    "        ruta = ticker+'.xlsx'\n",
    "    else:\n",
    "        ruta = carpeta+'/'+ticker+'.xlsx'\n",
    "    data = pd.read_excel(ruta)\n",
    "    return data"
   ]
  },
  {
   "cell_type": "code",
   "execution_count": 4,
   "id": "6f10a1f2",
   "metadata": {},
   "outputs": [],
   "source": [
    "#abrir excel carpeta adr, o cualquier carpeta en directorio\n",
    "def abrirExcelADRS(ticker,carpeta=''):\n",
    "    if carpeta == '':\n",
    "        ruta = ticker+'.xlsx'\n",
    "    else:\n",
    "        ruta = \"../\"+carpeta+'/'+ticker+'.xlsx'\n",
    "    data = pd.read_excel(ruta)\n",
    "    data = data.sort_values('timestamp',ascending = True)\n",
    "    data.set_index('timestamp',inplace=True)\n",
    "    ret = data.adjusted_close.to_frame()\n",
    "    ret.columns = ['Close']\n",
    "    ret['Yield']=(ret['Close']/ret['Close'].shift()-1)*100\n",
    "    return ret.round(2).dropna"
   ]
  },
  {
   "cell_type": "code",
   "execution_count": 5,
   "id": "d96e444a",
   "metadata": {},
   "outputs": [],
   "source": [
    "TGS = abrirExcelADRS(ticker='TGS',carpeta='ADRs')"
   ]
  },
  {
   "cell_type": "code",
   "execution_count": null,
   "id": "29930a2c",
   "metadata": {},
   "outputs": [],
   "source": [
    "#RSI casero\n",
    "\n",
    "def RSI(t, periods=14):\n",
    "    length = len(t)\n",
    "    rsies = [np.nan]*length\n",
    "         # La longitud de los datos no excede el período y no se puede calcular;\n",
    "    if length <= periods:\n",
    "        return rsies\n",
    "         #Utilizado para cálculos rápidos;\n",
    "    up_avg = 0\n",
    "    down_avg = 0\n",
    " \n",
    "         # Primero calcule el primer RSI, use los períodos anteriores + 1 dato para formar una secuencia de períodos;\n",
    "    first_t = t[:periods+1]\n",
    "    for i in range(1, len(first_t)):\n",
    "                 #Precio aumentado;\n",
    "        if first_t[i] >= first_t[i-1]:\n",
    "            up_avg += first_t[i] - first_t[i-1]\n",
    "                 #caída de los precios; \n",
    "        else:\n",
    "            down_avg += first_t[i-1] - first_t[i]\n",
    "    up_avg = up_avg / periods\n",
    "    down_avg = down_avg / periods\n",
    "    rs = up_avg / down_avg\n",
    "    rsies[periods] = 100 - 100/(1+rs)\n",
    " \n",
    "         # Lo siguiente utilizará cálculo rápido;\n",
    "    for j in range(periods+1, length):\n",
    "        up = 0\n",
    "        down = 0\n",
    "        if t[j] >= t[j-1]:\n",
    "            up = t[j] - t[j-1]\n",
    "            down = 0\n",
    "        else:\n",
    "            up = 0\n",
    "            down = t[j-1] - t[j]\n",
    "                 # Fórmula de cálculo similar a la media móvil;\n",
    "        up_avg = (up_avg*(periods - 1) + up)/periods\n",
    "        down_avg = (down_avg*(periods - 1) + down)/periods\n",
    "        rs = up_avg/down_avg\n",
    "        rsies[j] = 100 - 100/(1+rs)\n",
    "    return rsies"
   ]
  },
  {
   "cell_type": "code",
   "execution_count": 11,
   "id": "0123a925-8cab-4279-b8d6-d129bb92150a",
   "metadata": {},
   "outputs": [],
   "source": [
    "def rsi(data, ruedas = 14):\n",
    "    resi = pd.DataFrame(data)\n",
    "    rsi['dif'] = rsi['Close']-rsi['Close'].shift(1)\n",
    "    rsi['win'] = np.where(rsi['dif']>=0, rsi['dif'],0)\n",
    "    rsi['loss'] = np.where(rsi['dif']<=0, abs(rsi['dif']), 0)\n",
    "    rsi['ema_win']= rsi.win.ewm(alpha=1/ruedas).mean()\n",
    "    rsi['ema_loss']= rsi.loss.ewm(alpha=1/ruedas).mean()\n",
    "    rsi['rs']= rsi.ema.win / rsi.ema.loss\n",
    "    rsi['rsi'] = 100 - (100/(1+rsi.rs))\n",
    "    rsi['nextYield'] = rsi.Yield.shift(-1)\n",
    "    return rsi.reset_index().dropna()"
   ]
  },
  {
   "cell_type": "code",
   "execution_count": null,
   "id": "a45d1137-2438-4b01-b8fa-52f27c0e8a9a",
   "metadata": {},
   "outputs": [],
   "source": [
    "import sklearn\n",
    "import plotly.express as px\n",
    "from sklearn.linear_model import LinearRegression\n",
    "\n",
    "\n"
   ]
  },
  {
   "cell_type": "code",
   "execution_count": null,
   "id": "a46ac992-9562-4179-96ec-6a831d4577b7",
   "metadata": {},
   "outputs": [],
   "source": []
  }
 ],
 "metadata": {
  "kernelspec": {
   "display_name": "Python 3 (ipykernel)",
   "language": "python",
   "name": "python3"
  },
  "language_info": {
   "codemirror_mode": {
    "name": "ipython",
    "version": 3
   },
   "file_extension": ".py",
   "mimetype": "text/x-python",
   "name": "python",
   "nbconvert_exporter": "python",
   "pygments_lexer": "ipython3",
   "version": "3.9.7"
  }
 },
 "nbformat": 4,
 "nbformat_minor": 5
}
