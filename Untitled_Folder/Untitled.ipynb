{
 "cells": [
  {
   "cell_type": "code",
   "execution_count": 1,
   "id": "6fa48ddc",
   "metadata": {},
   "outputs": [],
   "source": [
    "import matplotlib.pyplot as plt, pandas as pd\n",
    "from pandas.core.indexes.timedeltas import TimedeltaIndex\n"
   ]
  },
  {
   "cell_type": "code",
   "execution_count": 2,
   "id": "43557357",
   "metadata": {},
   "outputs": [],
   "source": [
    "def abrirExcel(ticker, carpeta = ''):\n",
    "\n",
    "    if carpeta == '':\n",
    "        ruta = ticker + '.xlsx'\n",
    "    else:\n",
    "        ruta = carpeta + '/' + ticker + '.xlsx'\n",
    "        data = pd.read_excel(ruta)\n",
    "    data = data.sort_values('timestamp', ascending=True)\n",
    "    data.set_index('timestamp', inplace=True)\n",
    "    ret= data.adjusted_close.to_frame()\n",
    "    ret.columns = ['Close']\n",
    "    ret['Yield'] = (ret['Close']/ret['Close'].shift()-1)*100\n",
    "\n",
    "    return ret.round(2).dropna()"
   ]
  },
  {
   "cell_type": "code",
   "execution_count": 3,
   "id": "3b865afa",
   "metadata": {},
   "outputs": [],
   "source": [
    "def getYields(data,fromEMA,toEMA):\n",
    "    yields = [] \n",
    "    timeIn = []\n",
    "    for i in range (fromEMA, toEMA + 1):\n",
    "        key = 'EMA_'+str(i)\n",
    "        data[key]=data.Close.ewm(span=i).mean()\n",
    "        data['comprado'] = data.Close.shift() > data[key].shift()\n",
    "        data['vendido'] = data.Close.shift() < data[key].shift()\n",
    "        allIn = data.loc[data.comprado == True]['Yield']\n",
    "        allOut = data.loc[data.vendido == True]['Yield']\n",
    "        qIn = allIn.count()\n",
    "        qOut = allOut.count()\n",
    "        qTot = allIn.count()+  allOut.count()\n",
    "        yields.append((allIn.mean()*qIn-allOut.mean()*qOut)/qTot)\n",
    "        timeIn.append(100*qIn/qTot)\n",
    "        return yields, timeIn"
   ]
  },
  {
   "cell_type": "code",
   "execution_count": 4,
   "id": "032f6011",
   "metadata": {},
   "outputs": [],
   "source": [
    "#FUNCION 3 GRAFICO FINAL\n",
    "\n",
    "def Graficar(ADRs,fromEMA,toEMA):\n",
    "    ejeX = [i for i in range (fromEMA,toEMA +1)]\n",
    "    fig, (ax1,ax2) = plt.subplots(figsize=(10,10), nrows=2)\n",
    "    r, yieldsMedios =  [],[]\n",
    "    for ADR in ADRs:\n",
    "        #llamo a la fx 1\n",
    "        data = abrirExcel(ADR, 'ADRs')\n",
    "\n",
    "        #llamo a la fx 2\n",
    "        yields, timeIn = getYields(data,fromEMA,toEMA)\n",
    "\n",
    "        #Grafico serie de rendimientos y tiempos adentro\n",
    "       \n",
    "        ax1.plot(ejeX,yields,ls='--',lw=1,label=ADR)\n",
    "        ax2.plot(ejeX,timeIn,ls='--',lw=1,label=ADR)\n",
    "\n",
    "        #Acumulo series para rendimiento total al final\n",
    "        r.append(yields).yieldsMedios.append(sum(yields)/len(yields))\n",
    "\n",
    "        #Grafico Rendimiento medio\n",
    "        yieldsTotal = [(x+y+z)/3 for x,y,z in zip(r[0],r[1],r[2])]\n",
    "        ax1.plot(ejeX, yieldsTotal, color='k',lw=1,label='Total')\n",
    "\n",
    "        #Configuro Ejes\n",
    "        ax1.legend()\n",
    "        ax1.set_ylabel('rendimiento % medio diario por rueda')\n",
    "        ax1.grid(which = 'major', axis='both', color='black', alpha=0.15)\n",
    "        ax2.legend()\n",
    "        ax2.set_xlabel('ruedas de la media movil')\n",
    "        ax2.set_ylabel('% De tiempo comprado')\n",
    "        ax2.grid(which = 'major', axis='both', color='black', alpha=0.15)\n",
    "        fig.subplots_adjust(hspace=0)\n",
    "        return plt, yieldsMedios"
   ]
  },
  {
   "cell_type": "code",
   "execution_count": 8,
   "id": "df34bfb4",
   "metadata": {},
   "outputs": [],
   "source": [
    "#ADRs= ['GGAL','BBAR','BMA']\n",
    "#data = abrirExcel('BBAR','ADRs' )"
   ]
  },
  {
   "cell_type": "code",
   "execution_count": 9,
   "id": "a763739a",
   "metadata": {},
   "outputs": [],
   "source": [
    "#yields = getYields(data,50,200)"
   ]
  },
  {
   "cell_type": "code",
   "execution_count": 10,
   "id": "224d6986",
   "metadata": {},
   "outputs": [],
   "source": [
    "#yields"
   ]
  },
  {
   "cell_type": "code",
   "execution_count": 11,
   "id": "6c896548",
   "metadata": {},
   "outputs": [],
   "source": [
    "#data"
   ]
  },
  {
   "cell_type": "code",
   "execution_count": 5,
   "id": "fa29239d",
   "metadata": {},
   "outputs": [
    {
     "ename": "ValueError",
     "evalue": "x and y must have same first dimension, but have shapes (151,) and (1,)",
     "output_type": "error",
     "traceback": [
      "\u001b[0;31m---------------------------------------------------------------------------\u001b[0m",
      "\u001b[0;31mValueError\u001b[0m                                Traceback (most recent call last)",
      "\u001b[0;32m/var/folders/nb/gqmqv6q96_b59xq5qprr3ck40000gn/T/ipykernel_32815/3823595078.py\u001b[0m in \u001b[0;36m<module>\u001b[0;34m\u001b[0m\n\u001b[1;32m      2\u001b[0m \u001b[0mADRs\u001b[0m\u001b[0;34m=\u001b[0m \u001b[0;34m[\u001b[0m\u001b[0;34m'TEO'\u001b[0m\u001b[0;34m,\u001b[0m\u001b[0;34m'PAM'\u001b[0m\u001b[0;34m,\u001b[0m\u001b[0;34m'YPF'\u001b[0m\u001b[0;34m]\u001b[0m\u001b[0;34m\u001b[0m\u001b[0;34m\u001b[0m\u001b[0m\n\u001b[1;32m      3\u001b[0m \u001b[0;31m#llamo a la funcion3\u001b[0m\u001b[0;34m\u001b[0m\u001b[0;34m\u001b[0m\u001b[0m\n\u001b[0;32m----> 4\u001b[0;31m \u001b[0mplt\u001b[0m\u001b[0;34m,\u001b[0m\u001b[0myields\u001b[0m \u001b[0;34m=\u001b[0m \u001b[0mGraficar\u001b[0m\u001b[0;34m(\u001b[0m\u001b[0mADRs\u001b[0m\u001b[0;34m,\u001b[0m\u001b[0;36m50\u001b[0m\u001b[0;34m,\u001b[0m\u001b[0;36m200\u001b[0m\u001b[0;34m)\u001b[0m\u001b[0;34m\u001b[0m\u001b[0;34m\u001b[0m\u001b[0m\n\u001b[0m\u001b[1;32m      5\u001b[0m \u001b[0;31m#Muestro Resultados\u001b[0m\u001b[0;34m\u001b[0m\u001b[0;34m\u001b[0m\u001b[0m\n\u001b[1;32m      6\u001b[0m \u001b[0mplt\u001b[0m\u001b[0;34m.\u001b[0m\u001b[0mshow\u001b[0m\u001b[0;34m(\u001b[0m\u001b[0;34m)\u001b[0m\u001b[0;34m\u001b[0m\u001b[0;34m\u001b[0m\u001b[0m\n",
      "\u001b[0;32m/var/folders/nb/gqmqv6q96_b59xq5qprr3ck40000gn/T/ipykernel_32815/1139074541.py\u001b[0m in \u001b[0;36mGraficar\u001b[0;34m(ADRs, fromEMA, toEMA)\u001b[0m\n\u001b[1;32m     14\u001b[0m         \u001b[0;31m#Grafico serie de rendimientos y tiempos adentro\u001b[0m\u001b[0;34m\u001b[0m\u001b[0;34m\u001b[0m\u001b[0m\n\u001b[1;32m     15\u001b[0m \u001b[0;34m\u001b[0m\u001b[0m\n\u001b[0;32m---> 16\u001b[0;31m         \u001b[0max1\u001b[0m\u001b[0;34m.\u001b[0m\u001b[0mplot\u001b[0m\u001b[0;34m(\u001b[0m\u001b[0mejeX\u001b[0m\u001b[0;34m,\u001b[0m\u001b[0myields\u001b[0m\u001b[0;34m,\u001b[0m\u001b[0mls\u001b[0m\u001b[0;34m=\u001b[0m\u001b[0;34m'--'\u001b[0m\u001b[0;34m,\u001b[0m\u001b[0mlw\u001b[0m\u001b[0;34m=\u001b[0m\u001b[0;36m1\u001b[0m\u001b[0;34m,\u001b[0m\u001b[0mlabel\u001b[0m\u001b[0;34m=\u001b[0m\u001b[0mADR\u001b[0m\u001b[0;34m)\u001b[0m\u001b[0;34m\u001b[0m\u001b[0;34m\u001b[0m\u001b[0m\n\u001b[0m\u001b[1;32m     17\u001b[0m         \u001b[0max2\u001b[0m\u001b[0;34m.\u001b[0m\u001b[0mplot\u001b[0m\u001b[0;34m(\u001b[0m\u001b[0mejeX\u001b[0m\u001b[0;34m,\u001b[0m\u001b[0mtimeIn\u001b[0m\u001b[0;34m,\u001b[0m\u001b[0mls\u001b[0m\u001b[0;34m=\u001b[0m\u001b[0;34m'--'\u001b[0m\u001b[0;34m,\u001b[0m\u001b[0mlw\u001b[0m\u001b[0;34m=\u001b[0m\u001b[0;36m1\u001b[0m\u001b[0;34m,\u001b[0m\u001b[0mlabel\u001b[0m\u001b[0;34m=\u001b[0m\u001b[0mADR\u001b[0m\u001b[0;34m)\u001b[0m\u001b[0;34m\u001b[0m\u001b[0;34m\u001b[0m\u001b[0m\n\u001b[1;32m     18\u001b[0m \u001b[0;34m\u001b[0m\u001b[0m\n",
      "\u001b[0;32m~/opt/anaconda3/envs/Dscience/lib/python3.9/site-packages/matplotlib/axes/_axes.py\u001b[0m in \u001b[0;36mplot\u001b[0;34m(self, scalex, scaley, data, *args, **kwargs)\u001b[0m\n\u001b[1;32m   1630\u001b[0m         \"\"\"\n\u001b[1;32m   1631\u001b[0m         \u001b[0mkwargs\u001b[0m \u001b[0;34m=\u001b[0m \u001b[0mcbook\u001b[0m\u001b[0;34m.\u001b[0m\u001b[0mnormalize_kwargs\u001b[0m\u001b[0;34m(\u001b[0m\u001b[0mkwargs\u001b[0m\u001b[0;34m,\u001b[0m \u001b[0mmlines\u001b[0m\u001b[0;34m.\u001b[0m\u001b[0mLine2D\u001b[0m\u001b[0;34m)\u001b[0m\u001b[0;34m\u001b[0m\u001b[0;34m\u001b[0m\u001b[0m\n\u001b[0;32m-> 1632\u001b[0;31m         \u001b[0mlines\u001b[0m \u001b[0;34m=\u001b[0m \u001b[0;34m[\u001b[0m\u001b[0;34m*\u001b[0m\u001b[0mself\u001b[0m\u001b[0;34m.\u001b[0m\u001b[0m_get_lines\u001b[0m\u001b[0;34m(\u001b[0m\u001b[0;34m*\u001b[0m\u001b[0margs\u001b[0m\u001b[0;34m,\u001b[0m \u001b[0mdata\u001b[0m\u001b[0;34m=\u001b[0m\u001b[0mdata\u001b[0m\u001b[0;34m,\u001b[0m \u001b[0;34m**\u001b[0m\u001b[0mkwargs\u001b[0m\u001b[0;34m)\u001b[0m\u001b[0;34m]\u001b[0m\u001b[0;34m\u001b[0m\u001b[0;34m\u001b[0m\u001b[0m\n\u001b[0m\u001b[1;32m   1633\u001b[0m         \u001b[0;32mfor\u001b[0m \u001b[0mline\u001b[0m \u001b[0;32min\u001b[0m \u001b[0mlines\u001b[0m\u001b[0;34m:\u001b[0m\u001b[0;34m\u001b[0m\u001b[0;34m\u001b[0m\u001b[0m\n\u001b[1;32m   1634\u001b[0m             \u001b[0mself\u001b[0m\u001b[0;34m.\u001b[0m\u001b[0madd_line\u001b[0m\u001b[0;34m(\u001b[0m\u001b[0mline\u001b[0m\u001b[0;34m)\u001b[0m\u001b[0;34m\u001b[0m\u001b[0;34m\u001b[0m\u001b[0m\n",
      "\u001b[0;32m~/opt/anaconda3/envs/Dscience/lib/python3.9/site-packages/matplotlib/axes/_base.py\u001b[0m in \u001b[0;36m__call__\u001b[0;34m(self, data, *args, **kwargs)\u001b[0m\n\u001b[1;32m    310\u001b[0m                 \u001b[0mthis\u001b[0m \u001b[0;34m+=\u001b[0m \u001b[0margs\u001b[0m\u001b[0;34m[\u001b[0m\u001b[0;36m0\u001b[0m\u001b[0;34m]\u001b[0m\u001b[0;34m,\u001b[0m\u001b[0;34m\u001b[0m\u001b[0;34m\u001b[0m\u001b[0m\n\u001b[1;32m    311\u001b[0m                 \u001b[0margs\u001b[0m \u001b[0;34m=\u001b[0m \u001b[0margs\u001b[0m\u001b[0;34m[\u001b[0m\u001b[0;36m1\u001b[0m\u001b[0;34m:\u001b[0m\u001b[0;34m]\u001b[0m\u001b[0;34m\u001b[0m\u001b[0;34m\u001b[0m\u001b[0m\n\u001b[0;32m--> 312\u001b[0;31m             \u001b[0;32myield\u001b[0m \u001b[0;32mfrom\u001b[0m \u001b[0mself\u001b[0m\u001b[0;34m.\u001b[0m\u001b[0m_plot_args\u001b[0m\u001b[0;34m(\u001b[0m\u001b[0mthis\u001b[0m\u001b[0;34m,\u001b[0m \u001b[0mkwargs\u001b[0m\u001b[0;34m)\u001b[0m\u001b[0;34m\u001b[0m\u001b[0;34m\u001b[0m\u001b[0m\n\u001b[0m\u001b[1;32m    313\u001b[0m \u001b[0;34m\u001b[0m\u001b[0m\n\u001b[1;32m    314\u001b[0m     \u001b[0;32mdef\u001b[0m \u001b[0mget_next_color\u001b[0m\u001b[0;34m(\u001b[0m\u001b[0mself\u001b[0m\u001b[0;34m)\u001b[0m\u001b[0;34m:\u001b[0m\u001b[0;34m\u001b[0m\u001b[0;34m\u001b[0m\u001b[0m\n",
      "\u001b[0;32m~/opt/anaconda3/envs/Dscience/lib/python3.9/site-packages/matplotlib/axes/_base.py\u001b[0m in \u001b[0;36m_plot_args\u001b[0;34m(self, tup, kwargs, return_kwargs)\u001b[0m\n\u001b[1;32m    496\u001b[0m \u001b[0;34m\u001b[0m\u001b[0m\n\u001b[1;32m    497\u001b[0m         \u001b[0;32mif\u001b[0m \u001b[0mx\u001b[0m\u001b[0;34m.\u001b[0m\u001b[0mshape\u001b[0m\u001b[0;34m[\u001b[0m\u001b[0;36m0\u001b[0m\u001b[0;34m]\u001b[0m \u001b[0;34m!=\u001b[0m \u001b[0my\u001b[0m\u001b[0;34m.\u001b[0m\u001b[0mshape\u001b[0m\u001b[0;34m[\u001b[0m\u001b[0;36m0\u001b[0m\u001b[0;34m]\u001b[0m\u001b[0;34m:\u001b[0m\u001b[0;34m\u001b[0m\u001b[0;34m\u001b[0m\u001b[0m\n\u001b[0;32m--> 498\u001b[0;31m             raise ValueError(f\"x and y must have same first dimension, but \"\n\u001b[0m\u001b[1;32m    499\u001b[0m                              f\"have shapes {x.shape} and {y.shape}\")\n\u001b[1;32m    500\u001b[0m         \u001b[0;32mif\u001b[0m \u001b[0mx\u001b[0m\u001b[0;34m.\u001b[0m\u001b[0mndim\u001b[0m \u001b[0;34m>\u001b[0m \u001b[0;36m2\u001b[0m \u001b[0;32mor\u001b[0m \u001b[0my\u001b[0m\u001b[0;34m.\u001b[0m\u001b[0mndim\u001b[0m \u001b[0;34m>\u001b[0m \u001b[0;36m2\u001b[0m\u001b[0;34m:\u001b[0m\u001b[0;34m\u001b[0m\u001b[0;34m\u001b[0m\u001b[0m\n",
      "\u001b[0;31mValueError\u001b[0m: x and y must have same first dimension, but have shapes (151,) and (1,)"
     ]
    },
    {
     "data": {
      "image/png": "[encoded data removed]",
      "text/plain": [
       "<Figure size 720x720 with 2 Axes>"
      ]
     },
     "metadata": {
      "needs_background": "light"
     },
     "output_type": "display_data"
    }
   ],
   "source": [
    "#defino tickers\n",
    "ADRs= ['TEO','PAM','YPF']\n",
    "#llamo a la funcion3\n",
    "plt,yields = Graficar(ADRs,50,200)\n",
    "#Muestro Resultados \n",
    "plt.show()\n",
    "for i in range(3):\n",
    "    print(ADRs[i],round(yields[i],4),ends='')"
   ]
  },
  {
   "cell_type": "code",
   "execution_count": null,
   "id": "e251ba6d",
   "metadata": {},
   "outputs": [],
   "source": [
    "data"
   ]
  },
  {
   "cell_type": "code",
   "execution_count": null,
   "id": "3deb0a76",
   "metadata": {},
   "outputs": [],
   "source": []
  }
 ],
 "metadata": {
  "kernelspec": {
   "display_name": "Python 3 (ipykernel)",
   "language": "python",
   "name": "python3"
  },
  "language_info": {
   "codemirror_mode": {
    "name": "ipython",
    "version": 3
   },
   "file_extension": ".py",
   "mimetype": "text/x-python",
   "name": "python",
   "nbconvert_exporter": "python",
   "pygments_lexer": "ipython3",
   "version": "3.9.7"
  }
 },
 "nbformat": 4,
 "nbformat_minor": 5
}
